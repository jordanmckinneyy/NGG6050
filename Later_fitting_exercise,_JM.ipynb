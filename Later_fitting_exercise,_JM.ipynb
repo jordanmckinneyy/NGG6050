{
  "nbformat": 4,
  "nbformat_minor": 0,
  "metadata": {
    "colab": {
      "provenance": []
    },
    "kernelspec": {
      "name": "python3",
      "display_name": "Python 3"
    },
    "language_info": {
      "name": "python"
    }
  },
  "cells": [
    {
      "cell_type": "markdown",
      "source": [
        "LATER Fitting Exercise\n",
        "\n",
        "Copyright 2023 by Joshua I. Gold, University of Pennsylvania\n",
        "\n",
        "The basic idea in fitting a model to data is to find the parameters of the model that provide in some sense the best match of the model to the\n",
        "data. This match is provided by the \"objective function.\"  This exercise is intended to demystify this process by getting you to define the initial conditions and objective function for fitting the LATER model to RT data. For a much more thorough, but still very accessible, overview of model fitting (to behavioral data), here is a great place to start:\n",
        "\n",
        "https://elifesciences.org/articles/49547\n",
        "\n",
        "For this exercise, recall that the point of the LATER model is that 1/RT is distributed as a Gaussian, where we can define the parameters\n",
        "of the Gaussian (mu and sigma) with respect to the standard parameters of the LATER model (muR and deltaS):\n",
        "       mu = muR/deltaS\n",
        "       sigma = 1/deltaS\n",
        "\n",
        "So fitting LATER to behavioral data involves finding parameters muR and deltaS that provide the best match to the data, according to\n",
        "the appropriate objective function.\n",
        "\n",
        "Follow along the steps below, some of which will require you to complete the code (and therefore hopefully think about how to relate the high-level concepts discussed above with the nitty-gritty part of getting everything to actually work.\n",
        "\n",
        "1. Get the data\n",
        "Use this code to get a data set (array of RTs from a single condition) to fit, already preprocessed to include correct trials only and remove outliers (including express saccades). See later_getData for details\n",
        "\n",
        "data = later_getData([], [], 0.2);\n",
        "RTs = data{1};\n",
        "clear data\n",
        "\n",
        "2. Define the objective function\n",
        "The objective function typically defines the error that you want to minimize between your data and the model predictions. A common objective function is the negative of the sum of the log-likelihoods of the data, given the model parameters. To unpack that for the LATER model:\n",
        "\n",
        "   1. For each data point (RT from a single trial, in this case) and given set of model parameters, compute the probability of the data, given the model (i.e., the likelihood)\n",
        "   2. Take the logarithm\n",
        "  3. Sum all these log-likelihoods from all the data points\n",
        "  4. Take the negative, because we want to find the minimum (thus corresponding to the maximum likelihood)\n",
        "\n",
        "  You can define the function simply using an \"anonymous function\" (https://www.mathworks.com/help/matlab/matlab_prog/anonymous-functions.html), using this template that assumes that \"fits\" is a 2x1 vector of[muR, deltaS]:\n",
        "\n",
        "  EXERCISE:\n",
        "laterErrFcn = @(fits) <**YOUR OBJECTIVE FUNCTION HERE AS A FUNCTION OF FITS**>;\n",
        "\n",
        "3. Define initial conditions\n",
        "   \n",
        "For the actual fitting, we will use fmincon\n",
        "(https://www.mathworks.com/help/optim/ug/fmincon.html), which is \"function minimization with constraints.\" This function allows for\n",
        "constraints that include upper and lower bounds on the parameters. So here we define those bounds, along with the initial values. We'll use fairly arbitrary values for the lower and upper bounds, but we should pick the initial values more judiciously. HINT:\n",
        "Recall that the muR and deltaS should be strongly related to empirical summary statistics of `the (reciprocal) RT distribution.\n",
        "lowerBounds = [0.001 0.001];\n",
        "upperBounds = [1000 1000];\n",
        "\n",
        "EXERCISE:\n",
        "initialValues = [<**ADD INITIAL VALUES HERE**>];\n",
        "\n",
        "4. Run the fits\n",
        "We will be using GlobalSearch . The general advantage of this approach is to avoid local minima; for details, see: https://www.mathworks.com/help/gads/how-globalsearch-and-multistart-work.html\n",
        "These options seem to work well, but I don't have a strongerrationale for using them. See the Matlab documentation if you really want to dive in and understand them, and let me know if you find better settings!\n",
        "opts = optimoptions(@fmincon,    ...\n",
        " \"function minimization with constraints\"\n",
        "   'Algorithm',   'active-set',  ...\n",
        "   'MaxIter',     3000,          ...\n",
        "   'MaxFunEvals', 3000);\n",
        "\n",
        "Definine the \"optimization problem\" using variables defined above\n",
        "problem = createOptimProblem('fmincon',    ...\n",
        "    'objective',   laterErrFcn,     ...\n",
        "    Use the objective function\n",
        "    'x0',          initialValues,   ...  Initial conditions\n",
        "    'lb',          lowerBounds,     ...  Parameter lower bounds\n",
        "    'ub',          upperBounds,     ...  Parameter upper bounds\n",
        "    'options',     opts);                 Options defined above\n",
        "\n",
        "Create a GlobalSearch object\n",
        "gs = GlobalSearch;\n",
        "   \n",
        "Run it, returning the best-fitting parameter values and the negative-\n",
        "log-likelihood returned by the objective function\n",
        "[fits(ii,:), nllk] = run(gs,problem);"
      ],
      "metadata": {
        "id": "rRnXqtUVtwbK"
      }
    },
    {
      "cell_type": "markdown",
      "source": [
        "**Code written with the help of ChatGPT: https://chatgpt.com/share/670929ba-af68-800f-b47d-20fdb0569c82**\n",
        "\n",
        "**Adapted the matlab code to run in python (not sure if it's correct)**"
      ],
      "metadata": {
        "id": "vqwgGTWv0r3D"
      }
    },
    {
      "cell_type": "code",
      "source": [
        "##Rewriting and running in python\n",
        "#Have to recreate the data set based on what the matlab data set is\n",
        "  ##Had ChatGPT help with recreating the data set (https://chatgpt.com/share/670929ba-af68-800f-b47d-20fdb0569c82)\n",
        "\n",
        "#Import necessary libraries\n",
        "import numpy as np\n",
        "from scipy.optimize import minimize\n",
        "\n",
        "#Simulate a dataset similar to what 'later_getData' in MATLAB might return\n",
        "#Assume we get reaction time (RT) data after filtering correct trials and removing outliers\n",
        "\n",
        "#Simulated RT data for Left and Right choices, Change-point (CP) and Non-CP\n",
        "#These RTs will be in seconds, and the LATER model assumes 1/RT follows a Gaussian distribution\n",
        "#Simulated RT data will be the same every time, the data distribution will not change\n",
        "np.random.seed(42)\n",
        "\n",
        "#Simulating 100 RTs for each condition\n",
        "left_choice_no_cp = np.random.normal(0.6, 0.05, 100)\n",
        "left_choice_cp = np.random.normal(0.55, 0.05, 100)\n",
        "right_choice_no_cp = np.random.normal(0.65, 0.05, 100)\n",
        "right_choice_cp = np.random.normal(0.7, 0.05, 100)\n",
        "\n",
        "#Combine all data into a single dataset (RTs)\n",
        "RTs = np.concatenate([left_choice_no_cp, left_choice_cp, right_choice_no_cp, right_choice_cp])\n",
        "\n",
        "#Defining the objective function, calculate the negative log likelihood\n",
        "#Goal = find the parameter that minimizes the neg log likelihood (= maximizes data under the model)\n",
        "def laterErrFcn(fits):\n",
        "    muR, deltaS = fits #optimizer trying to fit the data\n",
        "    mu = muR / deltaS\n",
        "    sigma = 1 / deltaS\n",
        "    # Likelihood: Gaussian probability of 1/RTs under the model\n",
        "    likelihoods = (1 / (sigma * np.sqrt(2 * np.pi))) * np.exp(-0.5 * ((1/RTs - mu) / sigma)**2)\n",
        "    log_likelihood = np.sum(np.log(likelihoods))\n",
        "    return -log_likelihood  # We want to minimize the negative log-likelihood = maximize the log likelihood\n",
        "\n",
        "# Define initial conditions and bounds\n",
        "lower_bounds = [0.001, 0.001]\n",
        "upper_bounds = [1000, 1000]\n",
        "initial_values = [1, 1]\n",
        "\n",
        "# Optimization\n",
        "bounds = [(lower_bounds[i], upper_bounds[i]) for i in range(2)]  # Define bounds\n",
        "\n",
        "result = minimize(laterErrFcn, initial_values, bounds=bounds, method='L-BFGS-B', options={'maxiter': 3000, 'disp': True})\n",
        "\n",
        "# Extract the fitted parameters\n",
        "fits = result.x  # Best-fitting [muR, deltaS]\n",
        "nllk = result.fun  # Negative log-likelihood\n",
        "\n",
        "# Display results\n",
        "fits, nllk\n"
      ],
      "metadata": {
        "colab": {
          "base_uri": "https://localhost:8080/"
        },
        "id": "Im8rTbrwvhvr",
        "outputId": "9118f2af-cc9e-482d-d587-324de218a090"
      },
      "execution_count": 9,
      "outputs": [
        {
          "output_type": "stream",
          "name": "stderr",
          "text": [
            "<ipython-input-9-dbd67fb94102>:34: RuntimeWarning: divide by zero encountered in log\n",
            "  log_likelihood = np.sum(np.log(likelihoods))\n",
            "/usr/local/lib/python3.10/dist-packages/scipy/optimize/_numdiff.py:590: RuntimeWarning: invalid value encountered in subtract\n",
            "  df = fun(x) - f0\n"
          ]
        },
        {
          "output_type": "execute_result",
          "data": {
            "text/plain": [
              "(array([1., 1.]), 452.6475217085227)"
            ]
          },
          "metadata": {},
          "execution_count": 9
        }
      ]
    },
    {
      "cell_type": "code",
      "source": [
        "#Plotting to show the data\n",
        "#Import correct libraries\n",
        "import matplotlib.pyplot as plt\n",
        "import numpy as np\n",
        "\n",
        "#Calculate 1/RTs\n",
        "inv_RTs = 1 / RTs\n",
        "\n",
        "#Define the fitted Gaussian distribution based on the fitted parameters\n",
        "mu = fits[0] / fits[1]  # mu = muR / deltaS\n",
        "sigma = 1 / fits[1]      # sigma = 1 / deltaS\n",
        "\n",
        "#Generate x values for the fitted Gaussian\n",
        "x_vals = np.linspace(min(inv_RTs), max(inv_RTs), 1000)\n",
        "fitted_gaussian = (1 / (sigma * np.sqrt(2 * np.pi))) * np.exp(-0.5 * ((x_vals - mu) / sigma)**2)\n",
        "\n",
        "#Plot the histogram of the observed 1/RT values\n",
        "plt.figure(figsize=(8, 6))\n",
        "plt.hist(inv_RTs, bins=30, density=True, alpha=0.6, color='gray', label='Observed 1/RT')\n",
        "\n",
        "#Plot the fitted Gaussian curve\n",
        "plt.plot(x_vals, fitted_gaussian, color='blue', lw=2, label=f'Fitted Gaussian\\n$\\\\mu = {mu:.2f}$, $\\\\sigma = {sigma:.2f}$')\n",
        "\n",
        "#Add labels and legend\n",
        "plt.title('Observed 1/RT distribution and fitted LATER model')\n",
        "plt.xlabel('1/RT (reciprocal of reaction time)')\n",
        "plt.ylabel('Density')\n",
        "plt.legend()\n",
        "plt.grid(True)\n",
        "plt.show()\n"
      ],
      "metadata": {
        "colab": {
          "base_uri": "https://localhost:8080/",
          "height": 564
        },
        "id": "R8p1Yoyq0aTi",
        "outputId": "a644012e-687e-4ff0-c8e7-1ea1a79d72e1"
      },
      "execution_count": 12,
      "outputs": [
        {
          "output_type": "display_data",
          "data": {
            "text/plain": [
              "<Figure size 800x600 with 1 Axes>"
            ],
            "image/png": "[encoded data removed]"
          },
          "metadata": {}
        }
      ]
    }
  ]
}
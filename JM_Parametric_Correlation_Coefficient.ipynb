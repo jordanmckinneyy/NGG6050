{
  "cells": [
    {
      "cell_type": "markdown",
      "metadata": {
        "id": "pKIiY6p3GRFq"
      },
      "source": [
        "# Definitions"
      ]
    },
    {
      "cell_type": "markdown",
      "metadata": {
        "id": "x7VmLUr5GTNw"
      },
      "source": [
        "Correlation is a measure of association between measured (random) variables. The Pearson's correlation coefficient quantifies the strength of this association on a simple scale: it varies between -1 and 1. The larger the absolute value of this correlation coefficient, the tighter the correlation and more predictive it is. The smaller the absolute value, the weaker the correlation and less predictive. Positive values imply a positive correlation: as I eat more ice cream, my weight goes up. Negative values imply a negative correlation: as I eat more ice cream, my weight goes down (wouldn't that be great!).\n",
        "\n",
        "The Pearson's correlation coefficient is called parametric because it assumes a parametric form of the distributions of the two random variables, $X$ and $Y$; specifically, that both variables are [normally distributed](https://colab.research.google.com/drive/1-KxH3FCq5rDyyO33HXxewIv-kKldkINi?usp=sharing)."
      ]
    },
    {
      "cell_type": "markdown",
      "metadata": {
        "id": "IyCyVIIDH0rb"
      },
      "source": [
        "# Computing for a population"
      ]
    },
    {
      "cell_type": "markdown",
      "metadata": {
        "id": "sYDtxlCZH5BC"
      },
      "source": [
        "When you have full knowledge of the joint distribution of $𝑋$ and $Y$ (e.g., when working with an idealized model, not with real, finite data sets), the Pearson's correlation coefficient is typically denoted as $\\rho$ and computed in terms of the covariance between the two variables, normalized by the product of their individual standard deviations:\n",
        "\n",
        "$\\quad\\rho_{X,Y}=\\frac{cov(X,Y)}{\\sigma_x\\sigma_y}$\n",
        "\n",
        "where\n",
        "\n",
        "$\\quad cov(X,Y)=E\\left [ (X-\\mu_X)(Y-\\mu_Y)\\right ]$\n",
        "\n",
        "in which $\\mu_X$ and $\\mu_Y$ are the means of $X$ and $Y$, respectively, and $E\\left[\\right]$ denotes expected value."
      ]
    },
    {
      "cell_type": "markdown",
      "metadata": {
        "id": "xDpz-ktIJGhf"
      },
      "source": [
        "# Computing for a sample"
      ]
    },
    {
      "cell_type": "markdown",
      "metadata": {
        "id": "c-qA27fbJM6k"
      },
      "source": [
        "When working with real data, you have a [sample, not a population](https://colab.research.google.com/drive/1SnVM1MPaFvMSjlDLyihgeZ25OAk-k4Nk?usp=sharing), and thus need to compute the correlation coefficient (typically denoted as *r*) using sample statistics."
      ]
    },
    {
      "cell_type": "markdown",
      "metadata": {
        "id": "9LJSqIDXJZ4f"
      },
      "source": [
        "## Sample Pearson's correlation coefficient"
      ]
    },
    {
      "cell_type": "markdown",
      "metadata": {
        "id": "Ytr0p-0MJcld"
      },
      "source": [
        "$\\quad r_{X,Y}=\\frac{\\sum^n_{i-1}{(x_i-\\bar{x})(y_i-\\bar{y})}}{\\sqrt{\\sum^n_{i-1}{(x_i-\\bar{x})^2}}\\sqrt{\\sum^n_{i-1}{(y_i-\\bar{y})^2}}}$\n",
        "\n",
        "where\n",
        "\n",
        "$\\quad \\bar{x}=\\frac{1}{n}\\sum^n_{i=1}{x_i,\\bar{y}}=\\frac{1}{n}\\sum^n_{i=1}{y_i}$\n",
        "\n",
        "are the sample means."
      ]
    },
    {
      "cell_type": "markdown",
      "metadata": {
        "id": "F2at-qokKj34"
      },
      "source": [
        "## Coefficient of determination"
      ]
    },
    {
      "cell_type": "markdown",
      "metadata": {
        "id": "KHOpKncgKoJP"
      },
      "source": [
        "It is possible to compute $r_{X,Y}$ not just when $X$ and $Y$ are two random variables, but also when one is a random (dependent) variable (typically $Y$) and the other is an independent or explanatory variable (typically $X$). In this case, the square of the correlation coefficient ($r^2$) quantifies the total variation in one variable ($Y$) that is explained by the regression line with respect to the other variable ($X$). This quantity is called the **coefficient of determination** and is often referred to as the fraction of explained variance"
      ]
    },
    {
      "cell_type": "markdown",
      "metadata": {
        "id": "dRpX2JmfLAo7"
      },
      "source": [
        "## Standard error of the sample Pearson's correlation coefficient"
      ]
    },
    {
      "cell_type": "markdown",
      "metadata": {
        "id": "WAWhhqGfLDrG"
      },
      "source": [
        "The standard error of the sample *r* is computed by assuming that r follows a [Student's t distribution](https://colab.research.google.com/drive/1Q_Du5NK71Rc1qu-byh8dy8Fs39uvR_4n?usp=sharing) with two degrees of freedom (because of the two variables):\n",
        "\n",
        "$\\quad s_r=\\sqrt{\\frac{1-r^2}{n-2}}$\n",
        "\n",
        "Note that \"standard error\" refers in general to the standard deviation of a statistical estimate, which here is *r*. It is not the same thing as the \"standard error of the mean\", which refers to the standard deviation of a statistical estimate of a mean."
      ]
    },
    {
      "cell_type": "markdown",
      "metadata": {
        "id": "4yGAhXVULi3C"
      },
      "source": [
        "## Confidence intervals for the sample Pearson's correlation coefficient"
      ]
    },
    {
      "cell_type": "markdown",
      "metadata": {
        "id": "-YIP1v0vLla_"
      },
      "source": [
        "This is a bit tricker to compute, because r is not normally distributed, particularly around the extreme values (e.g., around 1, the distribution cannot go higher than one but can take many values <1). We therefore need to do the following (a good explanation is [here](http://faculty.washington.edu/gloftus/P317-318/Useful_Information/r_to_z/PearsonrCIs.pdf)):\n",
        "\n",
        "1\\. Take the Fisher's z-transformation of r:\n",
        "\n",
        "$\\quad z=0.5\\times ln(\\frac{1+r}{1-r})$\n",
        "\n",
        "2\\. Compute its standard deviation as:\n",
        "\n",
        "$\\quad s_z=\\sqrt{\\frac{1}{n-3}}$\n",
        "\n",
        "3\\. Compute confidence intervals in this z-space as we have shown [here](https://colab.research.google.com/drive/1rdJMusMZDTaM9OGsyt27tCVkSasmRj2O?usp=sharing), as:\n",
        "\n",
        "$\\quad z \\pm (z\\:criterion) \\times s_z$\n",
        "\n",
        "where the *z* criterion is determined from the desired confidence value using a [z-score calculator](http://www.z-table.com) or [norminv](https://www.mathworks.com/help/stats/norminv.html) in Matlab.\n",
        "\n",
        "4\\. Then translate each *z* value back to *r* as:\n",
        "\n",
        "$\\quad r=\\frac{e^{2z}-1}{e^{2z}+1}$\n"
      ]
    },
    {
      "cell_type": "markdown",
      "metadata": {
        "id": "ELEb_vqYQGdK"
      },
      "source": [
        "## Hypothesis testing on the sample Pearson's correlation coefficient"
      ]
    },
    {
      "cell_type": "markdown",
      "metadata": {
        "id": "5VSSh3pMQIJf"
      },
      "source": [
        "For $H_0: r=0$. Here we are considering a null distribution that is centered at *r*=0. In this case, we know that the distribution of *r* around that mean is symmetric, and the sample mean follows follows a [Student's *t* distribution](https://colab.research.google.com/drive/1Q_Du5NK71Rc1qu-byh8dy8Fs39uvR_4n?usp=sharing).  Therefore, our test statistic is simply the *t* statistic, which we compute as the residual (with respect to zero) of *r* divided by its standard error:\n",
        "\n",
        "$\\quad t=\\frac{r}{s_r}$\n",
        "\n",
        "with $n-2$ degrees of freedom.\n",
        "\n",
        "For $H_0: r=r_s,\\:where\\:r_s\\ne 0$. Here we are considering null distributions that are not centered at $r=0$ and therefore are not symmetric and do not follow a *t* distribution. We therefore first compute the *z* transformation of $r$ and $r_s$, as above. Now our test statistic is:\n",
        "\n",
        "$\\quad \\lambda =\\frac{z_r-z_{rs}}{\\sqrt{\\frac{1}{n-3}}}$\n",
        "\n",
        "with $n-2$ degrees of freedom.\n",
        "\n"
      ]
    },
    {
      "cell_type": "markdown",
      "metadata": {
        "id": "nvmWeSSHSF95"
      },
      "source": [
        "# Exercises"
      ]
    },
    {
      "cell_type": "markdown",
      "source": [
        "Code generated and debugged with the help of ChatGPT: https://chatgpt.com/share/66f19dbd-e710-800f-afb7-799f77f806fa"
      ],
      "metadata": {
        "id": "sXmgI-a8z_dC"
      }
    },
    {
      "cell_type": "markdown",
      "metadata": {
        "id": "bki88QRVSaj8"
      },
      "source": [
        "Let's examine the relationship between these two measured variables:\n",
        "\n",
        "Wing length | Tail length\n",
        "--- | ---\n",
        "10.4 | 7.4\n",
        "10.8 | 7.6\n",
        "11.1 | 7.9\n",
        "10.2 | 7.2\n",
        "10.3 | 7.4\n",
        "10.2 | 7.1\n",
        "10.7 | 7.4\n",
        "10.5 | 7.2\n",
        "10.8 | 7.8\n",
        "11.2 | 7.7\n",
        "10.6 | 7.8\n",
        "11.4 | 8.3\n",
        "\n",
        "Assume Wing length is the $X$ variable and Tail Length is the $Y$ variable, both measured in cm.\n",
        "\n",
        "Answers to the questions below will be found [here](https://github.com/PennNGG/Quantitative-Neuroscience/tree/master/Answers%20to%20Exercises/Python) after the due date."
      ]
    },
    {
      "cell_type": "markdown",
      "metadata": {
        "id": "zIfgeegzTlJl"
      },
      "source": [
        "##### 1\\. Plot X vs Y. Do they look related?"
      ]
    },
    {
      "cell_type": "code",
      "source": [
        "#import correct libraries\n",
        "import numpy\n",
        "import matplotlib.pyplot as plt\n",
        "\n",
        "#make arrays with the values\n",
        "wing_length = [10.4, 10.8, 11.1, 10.2, 10.3, 10.2, 10.7, 10.5, 10.8, 11.2, 10.6, 11.4]\n",
        "tail_length = [7.4, 7.6, 7.9, 7.2, 7.4, 7.1, 7.4, 7.2, 7.8, 7.7, 7.8, 8.3]\n",
        "\n",
        "#make a scatter plot with the data\n",
        "plt.scatter(wing_length, tail_length)\n",
        "plt.xlabel('Wing Length (cm)')\n",
        "plt.ylabel('Tail Length (cm)')\n",
        "plt.show()\n"
      ],
      "metadata": {
        "colab": {
          "base_uri": "https://localhost:8080/",
          "height": 449
        },
        "id": "23EXUfHgEDFF",
        "outputId": "3c51402f-caf9-4be9-ef81-021c59c0a63d"
      },
      "execution_count": 2,
      "outputs": [
        {
          "output_type": "display_data",
          "data": {
            "text/plain": [
              "<Figure size 640x480 with 1 Axes>"
            ],
            "image/png": "[encoded data removed]"
          },
          "metadata": {}
        }
      ]
    },
    {
      "cell_type": "markdown",
      "source": [
        "X and Y look like they could potentially be related, as it seems that as wing length increases tail length increases as well."
      ],
      "metadata": {
        "id": "Mrc-EJFbF-Bv"
      }
    },
    {
      "cell_type": "markdown",
      "metadata": {
        "id": "v4ihoOv0TzTk"
      },
      "source": [
        "##### 2\\. Calculate $r_{X,Y}$ and $r_{Y,X}$, first using the equations above and then using either the Python numpy funciton [corrcoef](https://numpy.org/doc/stable/reference/generated/numpy.corrcoef.html) or Matlab's built-in [corrcoef](https://www.mathworks.com/help/matlab/ref/corrcoef.html). Did you get the same answers?"
      ]
    },
    {
      "cell_type": "code",
      "source": [
        "#import correct libraries\n",
        "import numpy as np\n",
        "\n",
        "#make arrays with the values\n",
        "wing_length = [10.4, 10.8, 11.1, 10.2, 10.3, 10.2, 10.7, 10.5, 10.8, 11.2, 10.6, 11.4]\n",
        "tail_length = [7.4, 7.6, 7.9, 7.2, 7.4, 7.1, 7.4, 7.2, 7.8, 7.7, 7.8, 8.3]\n",
        "\n",
        "#pearson's correlation coefficient, using above equation\n",
        "#use arrays made above, designate as x and y\n",
        "x = wing_length\n",
        "y = tail_length\n",
        "\n",
        "def pearson_correlation(x, y):\n",
        "    #calculate means of x and y\n",
        "    mean_x = np.mean(x)\n",
        "    mean_y = np.mean(y)\n",
        "\n",
        "    #calculate the covariance (numerator)\n",
        "    numerator = np.sum((x - mean_x) * (y - mean_y))\n",
        "\n",
        "    #calculate the denominator\n",
        "    denominator = np.sqrt(np.sum((x - mean_x)**2) * np.sum((y - mean_y)**2))\n",
        "\n",
        "    #pearson's correlation coefficient for xy\n",
        "    r_xy = numerator / denominator\n",
        "\n",
        "    return r_xy\n",
        "#do the correlation for both cases, switching the x and y will account for both cases asked for\n",
        "r_xy = pearson_correlation(x, y)\n",
        "r_yx = pearson_correlation(y, x)\n",
        "\n",
        "#print results\n",
        "print(f\"Pearson's correlation coefficient r_x,y: {r_xy}\")\n",
        "print(f\"Pearson's correlation coefficient r_y,x: {r_yx}\")\n"
      ],
      "metadata": {
        "colab": {
          "base_uri": "https://localhost:8080/"
        },
        "id": "yGd1oXw3GEFa",
        "outputId": "a7e0574c-3480-4f47-cb13-76b6c5851455"
      },
      "execution_count": 6,
      "outputs": [
        {
          "output_type": "stream",
          "name": "stdout",
          "text": [
            "Pearson's correlation coefficient r_x,y: 0.8703545613058226\n",
            "Pearson's correlation coefficient r_y,x: 0.8703545613058226\n"
          ]
        }
      ]
    },
    {
      "cell_type": "code",
      "source": [
        "#use numpy's corrcoef for determining\n",
        "import numpy as np\n",
        "\n",
        "#make arrays with the values\n",
        "wing_length = [10.4, 10.8, 11.1, 10.2, 10.3, 10.2, 10.7, 10.5, 10.8, 11.2, 10.6, 11.4]\n",
        "tail_length = [7.4, 7.6, 7.9, 7.2, 7.4, 7.1, 7.4, 7.2, 7.8, 7.7, 7.8, 8.3]\n",
        "\n",
        "#use arrays made above, designate as x and y\n",
        "x = wing_length\n",
        "y = tail_length\n",
        "\n",
        "#compute the correlation matrix\n",
        "correlation_matrix_xy = np.corrcoef(x, y)\n",
        "correlation_matrix_yx = np.corrcoef(y, x)\n",
        "\n",
        "#extracting the Pearson correlation coefficient for each xy and yx\n",
        "r_xy = correlation_matrix_xy[0, 1]\n",
        "r_yx = correlation_matrix_yx[0, 1]\n",
        "\n",
        "#print results\n",
        "print(f\"Pearson's correlation coefficient r_x,y: {r_xy}\")\n",
        "print(f\"Pearson's correlation coefficient r_x,y: {r_yx}\")\n"
      ],
      "metadata": {
        "colab": {
          "base_uri": "https://localhost:8080/"
        },
        "id": "A13a8Yq_HebA",
        "outputId": "b3168937-dc23-4f8b-ccbb-91929f51398a"
      },
      "execution_count": 7,
      "outputs": [
        {
          "output_type": "stream",
          "name": "stdout",
          "text": [
            "Pearson's correlation coefficient r_x,y: 0.8703545613058227\n",
            "Pearson's correlation coefficient r_x,y: 0.8703545613058227\n"
          ]
        }
      ]
    },
    {
      "cell_type": "markdown",
      "metadata": {
        "id": "XqoZSFdZU5zg"
      },
      "source": [
        "##### 3\\. What is the standard error of $r_{X,Y}$? The 95% confidence intervals computed from the standard error?"
      ]
    },
    {
      "cell_type": "code",
      "source": [
        "import numpy as np\n",
        "\n",
        "#compute the standard error of rxy\n",
        "#standard error= sqrt{frac{1-r^2}{n-2}}\n",
        "#use n = 12 because that is how many samples we have\n",
        "standard_error = np.sqrt((1 - r_xy**2) / (12 - 2))\n",
        "\n",
        "\n",
        "#print results\n",
        "print(f\"Standard Error of r_x,y: {standard_error}\")\n",
        "\n",
        "#compute the 95% confidence interval using the standard error just calculated\n",
        "def confidence_interval(mean, standard_error, confidence_level=0.95):\n",
        "    #define the z value for 95% confidence interval (from the standard normal distribution)\n",
        "    z_value = 1.96  # For 95% confidence level\n",
        "\n",
        "    #calculate the margin of error\n",
        "    margin_of_error = z_value * standard_error\n",
        "\n",
        "    #compute the lower and upper bounds of the confidence interval\n",
        "    lower_bound = mean - margin_of_error\n",
        "    upper_bound = mean + margin_of_error\n",
        "\n",
        "    return lower_bound, upper_bound\n",
        "\n",
        "#use values computed for standard error above, and calculate the mean of wing length (not sure if this is the correct use of the mean ???)\n",
        "standard_error\n",
        "mean = np.mean(wing_length)\n",
        "\n",
        "# Compute 95% confidence interval\n",
        "ci_lower, ci_upper = confidence_interval(mean, standard_error)\n",
        "\n",
        "print(f\"95% Confidence Interval: [{ci_lower}, {ci_upper}]\")\n"
      ],
      "metadata": {
        "colab": {
          "base_uri": "https://localhost:8080/"
        },
        "id": "zqXpusFrIaGE",
        "outputId": "5b5c7ca5-6070-4a9b-da30-8e8fd48f95e9"
      },
      "execution_count": 10,
      "outputs": [
        {
          "output_type": "stream",
          "name": "stdout",
          "text": [
            "Standard Error of r_x,y: 0.15571863652567375\n",
            "95% Confidence Interval: [10.378124805743012, 10.988541860923652]\n"
          ]
        }
      ]
    },
    {
      "cell_type": "markdown",
      "metadata": {
        "id": "sU0UjR6uVMl2"
      },
      "source": [
        "##### 4\\. Should the value of $r_{X,Y}$ be considered significant at the *p*<0.05 level, given a two-tailed test (i.e., we reject if the test statistic is too large on either tail of the null distribution) for $H_0: r_{X,Y}=0$?"
      ]
    },
    {
      "cell_type": "code",
      "source": [
        "#run a two tailed test\n",
        "import numpy as np\n",
        "from scipy import stats\n",
        "\n",
        "#make arrays with the values\n",
        "wing_length = [10.4, 10.8, 11.1, 10.2, 10.3, 10.2, 10.7, 10.5, 10.8, 11.2, 10.6, 11.4]\n",
        "tail_length = [7.4, 7.6, 7.9, 7.2, 7.4, 7.1, 7.4, 7.2, 7.8, 7.7, 7.8, 8.3]\n",
        "\n",
        "#use arrays made above, designate as x and y\n",
        "x = wing_length\n",
        "y = tail_length\n",
        "\n",
        "#perform pearson correlation (could also use same above)\n",
        "r, p_value = stats.pearsonr(x, y)\n",
        "\n",
        "#print the Pearson correlation coefficient and p-value\n",
        "print(f\"Pearson correlation coefficient: {r}\")\n",
        "print(f\"P-value: {p_value}\")\n",
        "\n",
        "#check if the p-value is less than 0.05 (two-tailed test with alpha = 0.05)\n",
        "alpha = 0.05\n",
        "if p_value < alpha:\n",
        "    print(\"Reject the null hypothesis (significant correlation).\")\n",
        "else:\n",
        "    print(\"Fail to reject the null hypothesis (no significant correlation).\")\n"
      ],
      "metadata": {
        "colab": {
          "base_uri": "https://localhost:8080/"
        },
        "id": "SVj6-5_dLPAi",
        "outputId": "4ab1a6a9-71b3-4ca8-f8aa-7c73deeda128"
      },
      "execution_count": 13,
      "outputs": [
        {
          "output_type": "stream",
          "name": "stdout",
          "text": [
            "Pearson correlation coefficient: 0.8703545613058227\n",
            "P-value: 0.00023110594312057437\n",
            "Reject the null hypothesis (significant correlation).\n"
          ]
        }
      ]
    },
    {
      "cell_type": "markdown",
      "metadata": {
        "id": "mywqPzz3Vg0I"
      },
      "source": [
        "##### 5\\. Yale does the exact same study and finds that his correlation value is 0.75. Is this the same as yours? That is, evaluate $𝐻_0: r=0.75$."
      ]
    },
    {
      "cell_type": "code",
      "source": [
        "#import correct libraries\n",
        "import numpy as np\n",
        "from scipy import stats\n",
        "\n",
        "#use the data from above (just copied to down here)\n",
        "wing_length = [10.4, 10.8, 11.1, 10.2, 10.3, 10.2, 10.7, 10.5, 10.8, 11.2, 10.6, 11.4]\n",
        "tail_length = [7.4, 7.6, 7.9, 7.2, 7.4, 7.1, 7.4, 7.2, 7.8, 7.7, 7.8, 8.3]\n",
        "\n",
        "#pearson correlation coefficient between x and y (calculated above)\n",
        "r_observed, _ = stats.pearsonr(wing_length, tail_length)\n",
        "\n",
        "#hypothesized correlation coefficient\n",
        "r_hypothesized = 0.75\n",
        "\n",
        "#number of samples\n",
        "n = 12\n",
        "\n",
        "#fisher transformation\n",
        "def fisher_z(r):\n",
        "    return 0.5 * np.log((1 + r) / (1 - r))\n",
        "\n",
        "#Z values for observed and hypothesized correlation coefficients\n",
        "z_observed = fisher_z(r_observed)\n",
        "z_hypothesized = fisher_z(r_hypothesized)\n",
        "\n",
        "#standard error for the Z score\n",
        "SE = 1 / np.sqrt(n - 3)\n",
        "\n",
        "#Z-statistic for testing H0: r = 0.75\n",
        "z_statistic = (z_observed - z_hypothesized) / SE\n",
        "\n",
        "#two-tailed p-value from the Z-statistic\n",
        "p_value = 2 * (1 - stats.norm.cdf(np.abs(z_statistic)))\n",
        "\n",
        "#print results\n",
        "print(f\"Observed Pearson correlation coefficient: {r_observed}\")\n",
        "print(f\"Z-statistic: {z_statistic}\")\n",
        "print(f\"P-value: {p_value}\")\n",
        "\n",
        "#check if p-value is less than alpha (0.05)\n",
        "alpha = 0.05\n",
        "if p_value < alpha:\n",
        "    print(\"Reject the null hypothesis (significant difference from r = 0.75).\")\n",
        "else:\n",
        "    print(\"Fail to reject the null hypothesis (no significant difference from r = 0.75).\")\n"
      ],
      "metadata": {
        "colab": {
          "base_uri": "https://localhost:8080/"
        },
        "id": "_dDqoCQIyWD8",
        "outputId": "b8470b42-96b6-45a4-ff70-c07f38680b77"
      },
      "execution_count": 17,
      "outputs": [
        {
          "output_type": "stream",
          "name": "stdout",
          "text": [
            "Observed Pearson correlation coefficient: 0.8703545613058227\n",
            "Z-statistic: 1.0847547271784326\n",
            "P-value: 0.2780303018608832\n",
            "Fail to reject the null hypothesis (no significant difference from r = 0.75).\n"
          ]
        }
      ]
    },
    {
      "cell_type": "markdown",
      "metadata": {
        "id": "qYW4bBQ7Vxa-"
      },
      "source": [
        "##### 6\\. Finally, calculate the statistical power and sample size needed to reject $H_0:r=0\\:when\\:r\\ge 0.5$."
      ]
    },
    {
      "cell_type": "code",
      "source": [
        "#import correct libraries\n",
        "import numpy as np\n",
        "from statsmodels.stats.power import NormalIndPower, tt_ind_solve_power\n",
        "\n",
        "#set the parameters\n",
        "effect_size = 0.5  #expected correlation under the alternative hypothesis\n",
        "alpha = 0.05  #significance level (typically 0.05)\n",
        "power = 0.80  #desired power (can change this and it'll change the sample size generated)\n",
        "\n",
        "#calculate the Fisher Z-transformation of r\n",
        "#stabilizes transformation, good for when sample sizes are small\n",
        "def fisher_z(r):\n",
        "    return 0.5 * np.log((1 + r) / (1 - r))\n",
        "\n",
        "#convert effect size to z\n",
        "z_effect_size = fisher_z(effect_size)\n",
        "\n",
        "#calculate the sample size needed\n",
        "#NormalIndPower finds the value that satisfies the power equation\n",
        "power_analysis = NormalIndPower()\n",
        "sample_size = power_analysis.solve_power(effect_size=z_effect_size, alpha=alpha, power=power, alternative='larger')\n",
        "\n",
        "print(f\"Required sample size to detect r >= 0.5 with 80% power: {sample_size:.0f}\")\n"
      ],
      "metadata": {
        "colab": {
          "base_uri": "https://localhost:8080/"
        },
        "id": "u1EyFyD9zyPZ",
        "outputId": "2901d88d-600d-493e-dbaf-3ed9d7ec5601"
      },
      "execution_count": 21,
      "outputs": [
        {
          "output_type": "stream",
          "name": "stdout",
          "text": [
            "Required sample size to detect r >= 0.5 with 80% power: 41\n"
          ]
        }
      ]
    },
    {
      "cell_type": "markdown",
      "metadata": {
        "id": "UqoNXyuxP-go"
      },
      "source": [
        "# Additional Resources\n"
      ]
    },
    {
      "cell_type": "markdown",
      "metadata": {
        "id": "clnBO4FU28El"
      },
      "source": [
        "- Differences between correlation and regression are discussed [here](https://www.bmj.com/about-bmj/resources-readers/publications/statistics-square-one/11-correlation-and-regression) and [here](http://www.biostathandbook.com/linearregression.html).\n",
        "\n",
        "- A reference on [how to choose the appropriate measure of association](https://journals.sagepub.com/doi/pdf/10.1177/8756479308317006) (Khamis 2008)."
      ]
    },
    {
      "cell_type": "markdown",
      "metadata": {
        "id": "tteEm2Qlgbb3"
      },
      "source": [
        "# Credits\n",
        "\n",
        "Copyright 2021 by Joshua I. Gold, University of Pennsylvania"
      ]
    }
  ],
  "metadata": {
    "colab": {
      "provenance": []
    },
    "kernelspec": {
      "display_name": "Python 3",
      "name": "python3"
    },
    "language_info": {
      "name": "python"
    }
  },
  "nbformat": 4,
  "nbformat_minor": 0
}